{
 "cells": [
  {
   "cell_type": "code",
   "execution_count": 1,
   "id": "4187aa5f",
   "metadata": {},
   "outputs": [],
   "source": [
    "import gzip\n",
    "import json\n",
    "import dateutil.parser\n",
    "import random"
   ]
  },
  {
   "cell_type": "code",
   "execution_count": 2,
   "id": "7d10c03b",
   "metadata": {},
   "outputs": [
    {
     "ename": "ModuleNotFoundError",
     "evalue": "No module named 'homework1'",
     "output_type": "error",
     "traceback": [
      "\u001b[31m---------------------------------------------------------------------------\u001b[39m",
      "\u001b[31mModuleNotFoundError\u001b[39m                       Traceback (most recent call last)",
      "\u001b[36mCell\u001b[39m\u001b[36m \u001b[39m\u001b[32mIn[2]\u001b[39m\u001b[32m, line 1\u001b[39m\n\u001b[32m----> \u001b[39m\u001b[32m1\u001b[39m \u001b[38;5;28;01mimport\u001b[39;00m\u001b[38;5;250m \u001b[39m\u001b[34;01mhomework1\u001b[39;00m\n",
      "\u001b[31mModuleNotFoundError\u001b[39m: No module named 'homework1'"
     ]
    }
   ],
   "source": [
    "import homework1"
   ]
  },
  {
   "cell_type": "code",
   "execution_count": 3,
   "id": "67e983fe",
   "metadata": {},
   "outputs": [],
   "source": [
    "root = \"/home/julian/Downloads/\""
   ]
  },
  {
   "cell_type": "code",
   "execution_count": 4,
   "id": "9506e4ea",
   "metadata": {},
   "outputs": [
    {
     "ename": "FileNotFoundError",
     "evalue": "[Errno 2] No such file or directory: '/home/julian/Downloads//fantasy_10000.json.gz'",
     "output_type": "error",
     "traceback": [
      "\u001b[31m---------------------------------------------------------------------------\u001b[39m",
      "\u001b[31mFileNotFoundError\u001b[39m                         Traceback (most recent call last)",
      "\u001b[36mCell\u001b[39m\u001b[36m \u001b[39m\u001b[32mIn[4]\u001b[39m\u001b[32m, line 1\u001b[39m\n\u001b[32m----> \u001b[39m\u001b[32m1\u001b[39m f = \u001b[43mgzip\u001b[49m\u001b[43m.\u001b[49m\u001b[43mopen\u001b[49m\u001b[43m(\u001b[49m\u001b[43mroot\u001b[49m\u001b[43m \u001b[49m\u001b[43m+\u001b[49m\u001b[43m \u001b[49m\u001b[33;43m\"\u001b[39;49m\u001b[33;43m/fantasy_10000.json.gz\u001b[39;49m\u001b[33;43m\"\u001b[39;49m\u001b[43m)\u001b[49m\n\u001b[32m      2\u001b[39m dataset = []\n\u001b[32m      3\u001b[39m \u001b[38;5;28;01mfor\u001b[39;00m l \u001b[38;5;129;01min\u001b[39;00m f:\n",
      "\u001b[36mFile \u001b[39m\u001b[32m/opt/homebrew/Cellar/python@3.11/3.11.13/Frameworks/Python.framework/Versions/3.11/lib/python3.11/gzip.py:58\u001b[39m, in \u001b[36mopen\u001b[39m\u001b[34m(filename, mode, compresslevel, encoding, errors, newline)\u001b[39m\n\u001b[32m     56\u001b[39m gz_mode = mode.replace(\u001b[33m\"\u001b[39m\u001b[33mt\u001b[39m\u001b[33m\"\u001b[39m, \u001b[33m\"\u001b[39m\u001b[33m\"\u001b[39m)\n\u001b[32m     57\u001b[39m \u001b[38;5;28;01mif\u001b[39;00m \u001b[38;5;28misinstance\u001b[39m(filename, (\u001b[38;5;28mstr\u001b[39m, \u001b[38;5;28mbytes\u001b[39m, os.PathLike)):\n\u001b[32m---> \u001b[39m\u001b[32m58\u001b[39m     binary_file = \u001b[43mGzipFile\u001b[49m\u001b[43m(\u001b[49m\u001b[43mfilename\u001b[49m\u001b[43m,\u001b[49m\u001b[43m \u001b[49m\u001b[43mgz_mode\u001b[49m\u001b[43m,\u001b[49m\u001b[43m \u001b[49m\u001b[43mcompresslevel\u001b[49m\u001b[43m)\u001b[49m\n\u001b[32m     59\u001b[39m \u001b[38;5;28;01melif\u001b[39;00m \u001b[38;5;28mhasattr\u001b[39m(filename, \u001b[33m\"\u001b[39m\u001b[33mread\u001b[39m\u001b[33m\"\u001b[39m) \u001b[38;5;129;01mor\u001b[39;00m \u001b[38;5;28mhasattr\u001b[39m(filename, \u001b[33m\"\u001b[39m\u001b[33mwrite\u001b[39m\u001b[33m\"\u001b[39m):\n\u001b[32m     60\u001b[39m     binary_file = GzipFile(\u001b[38;5;28;01mNone\u001b[39;00m, gz_mode, compresslevel, filename)\n",
      "\u001b[36mFile \u001b[39m\u001b[32m/opt/homebrew/Cellar/python@3.11/3.11.13/Frameworks/Python.framework/Versions/3.11/lib/python3.11/gzip.py:174\u001b[39m, in \u001b[36mGzipFile.__init__\u001b[39m\u001b[34m(self, filename, mode, compresslevel, fileobj, mtime)\u001b[39m\n\u001b[32m    172\u001b[39m     mode += \u001b[33m'\u001b[39m\u001b[33mb\u001b[39m\u001b[33m'\u001b[39m\n\u001b[32m    173\u001b[39m \u001b[38;5;28;01mif\u001b[39;00m fileobj \u001b[38;5;129;01mis\u001b[39;00m \u001b[38;5;28;01mNone\u001b[39;00m:\n\u001b[32m--> \u001b[39m\u001b[32m174\u001b[39m     fileobj = \u001b[38;5;28mself\u001b[39m.myfileobj = \u001b[43mbuiltins\u001b[49m\u001b[43m.\u001b[49m\u001b[43mopen\u001b[49m\u001b[43m(\u001b[49m\u001b[43mfilename\u001b[49m\u001b[43m,\u001b[49m\u001b[43m \u001b[49m\u001b[43mmode\u001b[49m\u001b[43m \u001b[49m\u001b[38;5;129;43;01mor\u001b[39;49;00m\u001b[43m \u001b[49m\u001b[33;43m'\u001b[39;49m\u001b[33;43mrb\u001b[39;49m\u001b[33;43m'\u001b[39;49m\u001b[43m)\u001b[49m\n\u001b[32m    175\u001b[39m \u001b[38;5;28;01mif\u001b[39;00m filename \u001b[38;5;129;01mis\u001b[39;00m \u001b[38;5;28;01mNone\u001b[39;00m:\n\u001b[32m    176\u001b[39m     filename = \u001b[38;5;28mgetattr\u001b[39m(fileobj, \u001b[33m'\u001b[39m\u001b[33mname\u001b[39m\u001b[33m'\u001b[39m, \u001b[33m'\u001b[39m\u001b[33m'\u001b[39m)\n",
      "\u001b[31mFileNotFoundError\u001b[39m: [Errno 2] No such file or directory: '/home/julian/Downloads//fantasy_10000.json.gz'"
     ]
    }
   ],
   "source": [
    "f = gzip.open(root + \"/fantasy_10000.json.gz\")\n",
    "dataset = []\n",
    "for l in f:\n",
    "    dataset.append(json.loads(l))"
   ]
  },
  {
   "cell_type": "code",
   "execution_count": null,
   "id": "fa1c922a",
   "metadata": {},
   "outputs": [],
   "source": [
    "dataset[0]"
   ]
  },
  {
   "cell_type": "code",
   "execution_count": null,
   "id": "1dce3b43",
   "metadata": {},
   "outputs": [],
   "source": [
    "for d in dataset:\n",
    "    t = dateutil.parser.parse(d['date_added'])\n",
    "    d['parsed_date'] = t"
   ]
  },
  {
   "cell_type": "code",
   "execution_count": null,
   "id": "038717f1",
   "metadata": {},
   "outputs": [],
   "source": [
    "dataset[0]"
   ]
  },
  {
   "cell_type": "code",
   "execution_count": null,
   "id": "8de30310",
   "metadata": {},
   "outputs": [],
   "source": [
    "dataset4 = dataset[:]\n",
    "random.seed(0)\n",
    "random.shuffle(dataset4)"
   ]
  },
  {
   "cell_type": "code",
   "execution_count": null,
   "id": "57b3c56c",
   "metadata": {},
   "outputs": [],
   "source": [
    "f = open(\"/home/julian/Downloads/beer_50000.json\")\n",
    "datasetB = []\n",
    "for l in f:\n",
    "    datasetB.append(eval(l))"
   ]
  },
  {
   "cell_type": "code",
   "execution_count": null,
   "id": "b81595ca",
   "metadata": {},
   "outputs": [],
   "source": [
    "datasetB[0]"
   ]
  },
  {
   "cell_type": "code",
   "execution_count": null,
   "id": "ecc5a342",
   "metadata": {},
   "outputs": [],
   "source": [
    "def testQ1():\n",
    "    theta1, MSE1 = homework1.Q1(dataset)\n",
    "    # The autograder will compare these answers to a reference solution\n",
    "    print(theta1)\n",
    "    print(MSE1)"
   ]
  },
  {
   "cell_type": "code",
   "execution_count": null,
   "id": "a4230136",
   "metadata": {},
   "outputs": [],
   "source": [
    "def testQ2():\n",
    "    X, Y, MSE = homework1.Q2(dataset)\n",
    "    print((X[0],Y[0],MSE))"
   ]
  },
  {
   "cell_type": "code",
   "execution_count": null,
   "id": "38bea736",
   "metadata": {},
   "outputs": [],
   "source": [
    "def testQ3():\n",
    "    X, Y, MSE = homework1.Q3(dataset)\n",
    "    print((X[0],Y[0],MSE))"
   ]
  },
  {
   "cell_type": "code",
   "execution_count": null,
   "id": "ae790154",
   "metadata": {},
   "outputs": [],
   "source": [
    "def testQ4():\n",
    "    test_mse2, test_mse3 = homework1.Q4(dataset4)\n",
    "    print((test_mse2, test_mse3))"
   ]
  },
  {
   "cell_type": "code",
   "execution_count": null,
   "id": "ede95f2b",
   "metadata": {},
   "outputs": [],
   "source": [
    "def testQ5():\n",
    "    TP, TN, FP, FN, BER = homework1.Q5(datasetB, homework1.featureQ5)\n",
    "    print((TP, TN, FP, FN, BER))"
   ]
  },
  {
   "cell_type": "code",
   "execution_count": null,
   "id": "622bb102",
   "metadata": {},
   "outputs": [],
   "source": [
    "def testQ6():\n",
    "    precs = homework1.Q6(datasetB)\n",
    "    print(precs)"
   ]
  },
  {
   "cell_type": "code",
   "execution_count": null,
   "id": "633cbbdc",
   "metadata": {},
   "outputs": [],
   "source": [
    "def testQ7():\n",
    "    _, _, _, _, BER5 = homework1.Q5(datasetB, homework1.featureQ5)\n",
    "    _, _, _, _, BER7 = homework1.Q5(datasetB, homework1.featureQ7)\n",
    "    print((BER5,BER7))"
   ]
  },
  {
   "cell_type": "code",
   "execution_count": null,
   "id": "00360d4a",
   "metadata": {},
   "outputs": [],
   "source": []
  },
  {
   "cell_type": "code",
   "execution_count": null,
   "id": "e56353ab",
   "metadata": {},
   "outputs": [],
   "source": [
    "testQ1()"
   ]
  },
  {
   "cell_type": "code",
   "execution_count": null,
   "id": "4252f8c4",
   "metadata": {},
   "outputs": [],
   "source": [
    "testQ2()"
   ]
  },
  {
   "cell_type": "code",
   "execution_count": null,
   "id": "22f0ca7f",
   "metadata": {},
   "outputs": [],
   "source": [
    "testQ3()"
   ]
  },
  {
   "cell_type": "code",
   "execution_count": null,
   "id": "f55aa483",
   "metadata": {},
   "outputs": [],
   "source": [
    "testQ4()"
   ]
  },
  {
   "cell_type": "code",
   "execution_count": null,
   "id": "f8a37086",
   "metadata": {},
   "outputs": [],
   "source": [
    "testQ5()"
   ]
  },
  {
   "cell_type": "code",
   "execution_count": null,
   "id": "13a7b110",
   "metadata": {},
   "outputs": [],
   "source": [
    "testQ6()"
   ]
  },
  {
   "cell_type": "code",
   "execution_count": null,
   "id": "a76de3cd",
   "metadata": {},
   "outputs": [],
   "source": [
    "testQ7()"
   ]
  },
  {
   "cell_type": "code",
   "execution_count": null,
   "id": "30c84736",
   "metadata": {},
   "outputs": [],
   "source": []
  }
 ],
 "metadata": {
  "kernelspec": {
   "display_name": "Python 3",
   "language": "python",
   "name": "python3"
  },
  "language_info": {
   "codemirror_mode": {
    "name": "ipython",
    "version": 3
   },
   "file_extension": ".py",
   "mimetype": "text/x-python",
   "name": "python",
   "nbconvert_exporter": "python",
   "pygments_lexer": "ipython3",
   "version": "3.11.13"
  }
 },
 "nbformat": 4,
 "nbformat_minor": 5
}
