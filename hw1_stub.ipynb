{
 "cells": [
  {
   "cell_type": "code",
   "execution_count": 1,
   "id": "07ad6b17",
   "metadata": {},
   "outputs": [
    {
     "ename": "ModuleNotFoundError",
     "evalue": "No module named 'sklearn'",
     "output_type": "error",
     "traceback": [
      "\u001b[31m---------------------------------------------------------------------------\u001b[39m",
      "\u001b[31mModuleNotFoundError\u001b[39m                       Traceback (most recent call last)",
      "\u001b[36mCell\u001b[39m\u001b[36m \u001b[39m\u001b[32mIn[1]\u001b[39m\u001b[32m, line 2\u001b[39m\n\u001b[32m      1\u001b[39m \u001b[38;5;28;01mfrom\u001b[39;00m\u001b[38;5;250m \u001b[39m\u001b[34;01mcollections\u001b[39;00m\u001b[38;5;250m \u001b[39m\u001b[38;5;28;01mimport\u001b[39;00m defaultdict\n\u001b[32m----> \u001b[39m\u001b[32m2\u001b[39m \u001b[38;5;28;01mfrom\u001b[39;00m\u001b[38;5;250m \u001b[39m\u001b[34;01msklearn\u001b[39;00m\u001b[38;5;250m \u001b[39m\u001b[38;5;28;01mimport\u001b[39;00m linear_model\n\u001b[32m      3\u001b[39m \u001b[38;5;28;01mimport\u001b[39;00m\u001b[38;5;250m \u001b[39m\u001b[34;01mnumpy\u001b[39;00m\n\u001b[32m      4\u001b[39m \u001b[38;5;28;01mimport\u001b[39;00m\u001b[38;5;250m \u001b[39m\u001b[34;01mmath\u001b[39;00m\n",
      "\u001b[31mModuleNotFoundError\u001b[39m: No module named 'sklearn'"
     ]
    }
   ],
   "source": [
    "from collections import defaultdict\n",
    "from sklearn import linear_model\n",
    "import numpy\n",
    "import math"
   ]
  },
  {
   "cell_type": "code",
   "execution_count": null,
   "id": "ab71afc7-f078-4439-ba7d-5e348f44266c",
   "metadata": {},
   "outputs": [],
   "source": [
    "### Question 1"
   ]
  },
  {
   "cell_type": "code",
   "execution_count": null,
   "id": "f164c2d8-828a-4af2-ba69-000fad8f1c54",
   "metadata": {},
   "outputs": [],
   "source": [
    "def getMaxLen(dataset):\n",
    "    text_fields = ['review/text', 'text', 'review']\n",
    "    lengths = [len(datum.get(field, '')) for datum in dataset for field in text_fields if field in datum]\n",
    "    return max(lengths) if lengths else 0"
   ]
  },
  {
   "cell_type": "code",
   "execution_count": null,
   "id": "9dc58396-c9f4-4a94-b62e-74e03064ca24",
   "metadata": {},
   "outputs": [],
   "source": [
    "def featureQ1(datum, maxLen):\n",
    "    text_fields = ['review/text', 'text', 'review']\n",
    "    text_len = next((len(datum[field]) for field in text_fields if field in datum), 0)\n",
    "    scaled_length = text_len / maxLen if maxLen > 0 else 0\n",
    "    return [1, scaled_length]"
   ]
  },
  {
   "cell_type": "code",
   "execution_count": null,
   "id": "f1ebbbb2-d5ae-405e-a02d-7307265387b8",
   "metadata": {},
   "outputs": [],
   "source": [
    "def Q1(dataset):\n",
    "    maxLen = getMaxLen(dataset)\n",
    "    rating_fields = ['rating', 'overall', 'stars', 'review/overall']\n",
    "    \n",
    "    X = [featureQ1(datum, maxLen) for datum in dataset]\n",
    "    Y = [next((datum[field] for field in rating_fields if field in datum), 0) for datum in dataset]\n",
    "    \n",
    "    X, Y = numpy.array(X), numpy.array(Y)\n",
    "    \n",
    "    model = linear_model.LinearRegression(fit_intercept=False)\n",
    "    model.fit(X, Y)\n",
    "    \n",
    "    theta = model.coef_\n",
    "    MSE = numpy.mean((Y - model.predict(X)) ** 2)\n",
    "    return theta, MSE"
   ]
  },
  {
   "cell_type": "code",
   "execution_count": null,
   "id": "a8e3b548-53bc-47ad-bc45-d63fc4af95ce",
   "metadata": {},
   "outputs": [],
   "source": [
    "### Question 2"
   ]
  },
  {
   "cell_type": "code",
   "execution_count": null,
   "id": "abce94cf-a7ca-4eef-b5fa-920349ee1003",
   "metadata": {},
   "outputs": [],
   "source": [
    "def featureQ2(datum, maxLen):\n",
    "    text_fields = ['review/text', 'text', 'review']\n",
    "    text_len = next((len(datum[field]) for field in text_fields if field in datum), 0)\n",
    "    scaled_length = text_len / maxLen if maxLen > 0 else 0\n",
    "    \n",
    "    parsed_date = datum.get('parsed_date')\n",
    "    weekday = parsed_date.weekday() if parsed_date else 0\n",
    "    month = parsed_date.month if parsed_date else 1\n",
    "    \n",
    "    day_features = [1 if weekday == i else 0 for i in range(1, 7)]\n",
    "    month_features = [1 if month == i else 0 for i in range(2, 13)]\n",
    "    \n",
    "    return [1, scaled_length] + day_features + month_features"
   ]
  },
  {
   "cell_type": "code",
   "execution_count": null,
   "id": "8cb8f5cf",
   "metadata": {},
   "outputs": [],
   "source": [
    "def Q2(dataset):\n",
    "    maxLen = getMaxLen(dataset)\n",
    "    rating_fields = ['rating', 'overall', 'stars', 'review/overall']\n",
    "    \n",
    "    X2 = [featureQ2(datum, maxLen) for datum in dataset]\n",
    "    Y2 = [next((datum[field] for field in rating_fields if field in datum), 0) for datum in dataset]\n",
    "    \n",
    "    X2, Y2 = numpy.array(X2), numpy.array(Y2)\n",
    "    \n",
    "    model = linear_model.LinearRegression(fit_intercept=False)\n",
    "    model.fit(X2, Y2)\n",
    "    \n",
    "    MSE2 = numpy.mean((Y2 - model.predict(X2)) ** 2)\n",
    "    \n",
    "    return X2, Y2, MSE2"
   ]
  },
  {
   "cell_type": "code",
   "execution_count": null,
   "id": "35d18540-6413-4459-8082-0f8cc1d3e276",
   "metadata": {},
   "outputs": [],
   "source": [
    "### Question 3"
   ]
  },
  {
   "cell_type": "code",
   "execution_count": null,
   "id": "939c02d3-eb26-4e65-96a2-d55fc41d2209",
   "metadata": {},
   "outputs": [],
   "source": [
    "def featureQ3(datum, maxLen):\n",
    "    text_fields = ['review/text', 'text', 'review']\n",
    "    text_len = next((len(datum[field]) for field in text_fields if field in datum), 0)\n",
    "    scaled_length = text_len / maxLen if maxLen > 0 else 0\n",
    "    \n",
    "    parsed_date = datum.get('parsed_date')\n",
    "    weekday = parsed_date.weekday() if parsed_date else 0\n",
    "    month = parsed_date.month if parsed_date else 1\n",
    "    \n",
    "    return [1, scaled_length, weekday, month]"
   ]
  },
  {
   "cell_type": "code",
   "execution_count": null,
   "id": "3efaacd2-6ac8-4a3c-8d32-60ad8f389917",
   "metadata": {},
   "outputs": [],
   "source": [
    "def Q3(dataset):\n",
    "    maxLen = getMaxLen(dataset)\n",
    "    rating_fields = ['rating', 'overall', 'stars', 'review/overall']\n",
    "    \n",
    "    X3 = [featureQ3(datum, maxLen) for datum in dataset]\n",
    "    Y3 = [next((datum[field] for field in rating_fields if field in datum), 0) for datum in dataset]\n",
    "    \n",
    "    X3, Y3 = numpy.array(X3), numpy.array(Y3)\n",
    "    \n",
    "    model = linear_model.LinearRegression(fit_intercept=False)\n",
    "    model.fit(X3, Y3)\n",
    "    \n",
    "    MSE3 = numpy.mean((Y3 - model.predict(X3)) ** 2)\n",
    "    \n",
    "    return X3, Y3, MSE3"
   ]
  },
  {
   "cell_type": "code",
   "execution_count": null,
   "id": "6d89e772-b1ad-46fc-aeb8-45a6df15fa5d",
   "metadata": {},
   "outputs": [],
   "source": [
    "### Question 4"
   ]
  },
  {
   "cell_type": "code",
   "execution_count": null,
   "id": "d1029574-b4c4-4675-83ad-c20674a2428b",
   "metadata": {},
   "outputs": [],
   "source": [
    "def Q4(dataset):\n",
    "    n = len(dataset)\n",
    "    train_data, test_data = dataset[:n//2], dataset[n//2:]\n",
    "    \n",
    "    maxLen = getMaxLen(train_data)\n",
    "    rating_fields = ['rating', 'overall', 'stars', 'review/overall']\n",
    "    \n",
    "    X_train = [featureQ2(datum, maxLen) for datum in train_data]\n",
    "    Y_train = [next((datum[field] for field in rating_fields if field in datum), 0) for datum in train_data]\n",
    "    X_train, Y_train = numpy.array(X_train), numpy.array(Y_train)\n",
    "    model2 = linear_model.LinearRegression()\n",
    "    model2.fit(X_train, Y_train)\n",
    "    \n",
    "    X_train3 = [featureQ3(datum, maxLen) for datum in train_data]\n",
    "    Y_train3 = [next((datum[field] for field in rating_fields if field in datum), 0) for datum in train_data]\n",
    "    X_train3, Y_train3 = numpy.array(X_train3), numpy.array(Y_train3)\n",
    "    model3 = linear_model.LinearRegression()\n",
    "    model3.fit(X_train3, Y_train3)\n",
    "    \n",
    "    X_test = [featureQ2(datum, maxLen) for datum in test_data]\n",
    "    Y_test = [next((datum[field] for field in rating_fields if field in datum), 0) for datum in test_data]\n",
    "    X_test, Y_test = numpy.array(X_test), numpy.array(Y_test)\n",
    "    \n",
    "    X_test3 = [featureQ3(datum, maxLen) for datum in test_data]\n",
    "    Y_test3 = [next((datum[field] for field in rating_fields if field in datum), 0) for datum in test_data]\n",
    "    X_test3, Y_test3 = numpy.array(X_test3), numpy.array(Y_test3)\n",
    "    \n",
    "    test_mse2 = numpy.mean((Y_test - model2.predict(X_test)) ** 2)\n",
    "    test_mse3 = numpy.mean((Y_test3 - model3.predict(X_test3)) ** 2)\n",
    "    \n",
    "    return test_mse2, test_mse3"
   ]
  },
  {
   "cell_type": "code",
   "execution_count": null,
   "id": "3a38cc78-c502-4ad1-b2db-d8358c0caa3e",
   "metadata": {},
   "outputs": [],
   "source": [
    "### Question 5"
   ]
  },
  {
   "cell_type": "code",
   "execution_count": null,
   "id": "4df2e6ea",
   "metadata": {},
   "outputs": [],
   "source": [
    "def featureQ5(datum):\n",
    "    text_fields = ['review/text', 'text', 'review']\n",
    "    text_len = next((len(datum[field]) for field in text_fields if field in datum), 0)\n",
    "    return [1, text_len]"
   ]
  },
  {
   "cell_type": "code",
   "execution_count": null,
   "id": "cabb75ec-826a-497e-b158-f5c340aea4d2",
   "metadata": {},
   "outputs": [],
   "source": [
    "def Q5(dataset, feat_func):\n",
    "    rating_fields = ['rating', 'overall', 'stars', 'review/overall']\n",
    "    y = [1 if next((datum[field] for field in rating_fields if field in datum), 0) >= 4 else 0 for datum in dataset]\n",
    "    \n",
    "    X = [feat_func(datum) for datum in dataset]\n",
    "    X, y = numpy.array(X), numpy.array(y)\n",
    "    \n",
    "    model = linear_model.LogisticRegression(class_weight='balanced', random_state=42)\n",
    "    model.fit(X, y)\n",
    "    \n",
    "    y_pred = model.predict(X)\n",
    "    \n",
    "    TP = numpy.sum((y == 1) & (y_pred == 1))\n",
    "    TN = numpy.sum((y == 0) & (y_pred == 0))\n",
    "    FP = numpy.sum((y == 0) & (y_pred == 1))\n",
    "    FN = numpy.sum((y == 1) & (y_pred == 0))\n",
    "    \n",
    "    BER = 0.5 * (FP / (FP + TN) + FN / (FN + TP)) if (FP + TN) > 0 and (FN + TP) > 0 else 0.5\n",
    "    \n",
    "    return TP, TN, FP, FN, BER"
   ]
  },
  {
   "cell_type": "code",
   "execution_count": null,
   "id": "a3c14955-d174-473b-bf2b-a2b98776685e",
   "metadata": {},
   "outputs": [],
   "source": [
    "### Question 6"
   ]
  },
  {
   "cell_type": "code",
   "execution_count": null,
   "id": "2a71178c-589e-433c-8bdb-70c5e1510fce",
   "metadata": {},
   "outputs": [],
   "source": [
    "def Q6(dataset):\n",
    "    rating_fields = ['rating', 'overall', 'stars', 'review/overall']\n",
    "    y = [1 if next((datum[field] for field in rating_fields if field in datum), 0) >= 4 else 0 for datum in dataset]\n",
    "    X = [featureQ5(datum) for datum in dataset]\n",
    "    X, y = numpy.array(X), numpy.array(y)\n",
    "    \n",
    "    model = linear_model.LogisticRegression(class_weight='balanced', random_state=42)\n",
    "    model.fit(X, y)\n",
    "    \n",
    "    y_proba = model.predict_proba(X)[:, 1]\n",
    "    \n",
    "    K_values = [1, 100, 1000, 10000]\n",
    "    precs = []\n",
    "    \n",
    "    for K in K_values:\n",
    "        top_k_indices = numpy.argsort(y_proba)[-K:]\n",
    "        top_k_labels = y[top_k_indices]\n",
    "        precision_k = numpy.sum(top_k_labels) / K if K > 0 else 0\n",
    "        precs.append(precision_k)\n",
    "    \n",
    "    return precs"
   ]
  },
  {
   "cell_type": "code",
   "execution_count": null,
   "id": "e8291f55-cfa1-4979-bcaa-42a238e9a844",
   "metadata": {},
   "outputs": [],
   "source": [
    "### Question 7"
   ]
  },
  {
   "cell_type": "code",
   "execution_count": null,
   "id": "96e16d5a",
   "metadata": {},
   "outputs": [],
   "source": [
    "def featureQ7(datum):\n",
    "    text_fields = ['review/text', 'text', 'review']\n",
    "    text_len = next((len(datum[field]) for field in text_fields if field in datum), 0)\n",
    "    \n",
    "    style = datum.get('beer/style', 'Unknown')\n",
    "    common_styles = ['IPA', 'Stout', 'Porter', 'Lager', 'Ale', 'Wheat', 'Pilsner', 'Saison']\n",
    "    style_features = [1 if style in common_style else 0 for common_style in common_styles]\n",
    "    \n",
    "    abv = datum.get('beer/ABV', 0)\n",
    "    \n",
    "    appearance = datum.get('review/appearance', 0)\n",
    "    aroma = datum.get('review/aroma', 0)\n",
    "    taste = datum.get('review/taste', 0)\n",
    "    palate = datum.get('review/palate', 0)\n",
    "    \n",
    "    log_length = numpy.log(text_len + 1)\n",
    "    sqrt_length = numpy.sqrt(text_len)\n",
    "    \n",
    "    return [1, text_len, abv, appearance, aroma, taste, palate, log_length, sqrt_length] + style_features"
   ]
  },
  {
   "cell_type": "code",
   "execution_count": null,
   "id": "024a628f",
   "metadata": {},
   "outputs": [],
   "source": []
  }
 ],
 "metadata": {
  "kernelspec": {
   "display_name": "Python 3",
   "language": "python",
   "name": "python3"
  },
  "language_info": {
   "codemirror_mode": {
    "name": "ipython",
    "version": 3
   },
   "file_extension": ".py",
   "mimetype": "text/x-python",
   "name": "python",
   "nbconvert_exporter": "python",
   "pygments_lexer": "ipython3",
   "version": "3.11.13"
  }
 },
 "nbformat": 4,
 "nbformat_minor": 5
}
